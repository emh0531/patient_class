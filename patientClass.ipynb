{
 "cells": [
  {
   "cell_type": "markdown",
   "id": "acfb008a-3575-4fee-9bcb-024d7df5e028",
   "metadata": {},
   "source": [
    "## Creating a Class Containing Methods ##"
   ]
  },
  {
   "cell_type": "markdown",
   "id": "4aa1dc1a-b72d-4733-a2c5-5a820b1f1338",
   "metadata": {},
   "source": [
    "For this project I will crate a Patient class with initializing variables, and inner methods to update those variables, as well as an inner method to determine insurance cost based on an imaginary formula."
   ]
  },
  {
   "cell_type": "code",
   "execution_count": 19,
   "id": "699c4a25-f114-4ed0-b152-2a8c5b5d4733",
   "metadata": {},
   "outputs": [],
   "source": [
    "class Patient: \n",
    "    # initializing the class\n",
    "    def __init__(self, name, age, sex, bmi, num_of_children, smoker):\n",
    "        self.name = name\n",
    "        self.age = age\n",
    "        self.sex = sex # 0 for Male, 1 for Female\n",
    "        self.bmi = bmi\n",
    "        self.num_of_children = num_of_children\n",
    "        self.smoker = smoker # 0 for No, 1 for Yes\n",
    "\n",
    "    # calculating the patient's estimated insurance cost\n",
    "    def estimated_insurance_cost(self):\n",
    "        estimated_insurance_cost = (250*self.age) - (128*self.sex) + (370*self.bmi) + (425*self.num_of_children) + (24000*self.smoker) - 12500\n",
    "        return estimated_insurance_cost\n",
    "        print(self.name + \"'s estimated insurance cost is \" + str(estimated_insurance_cost) + \" dollars.\")\n",
    "\n",
    "    # creating a method to update patient's age\n",
    "    def update_age(self, new_age):\n",
    "        self.age = new_age\n",
    "\n",
    "    # creating a method to update patient's number of children\n",
    "    def update_num_children(self, new_num_children):\n",
    "        self.num_of_children = new_num_children\n",
    "        if self.num_of_children == 1: \n",
    "            print(self.name + \" has \" + str(self.num_of_children) + \" child.\")\n",
    "        else:\n",
    "            print(self.name + \" has \" + str(self.num_of_children) + \" children.\")\n",
    "\n",
    "    # creating a method update patient's bmi\n",
    "    def update_bmi(self, new_bmi):\n",
    "        self.bmi = new_bmi\n",
    "        print(self.name + \" has a bmi of \" + str(self.bmi))\n",
    "\n",
    "    # creating a method to update smoker status\n",
    "    def update_smoker(self, smoker):\n",
    "        self.smoker = smoker\n",
    "        if self.smoker == 0:\n",
    "            print(self.name + \" does not smoke.\")\n",
    "        else: \n",
    "            print(self.name + \" smokes.\")\n",
    "\n",
    "    # creating a method to get the patient profile in one view\n",
    "    def patient_profile(self):\n",
    "        patient = {}\n",
    "        patient['name'] = self.name\n",
    "        patient['age'] = self.age\n",
    "        if self.sex == 0:\n",
    "            patient['sex'] = 'Male'\n",
    "        else: \n",
    "            patient['sex'] = 'Female'\n",
    "        patient['bmi'] = self.bmi\n",
    "        patient['Children'] = self.num_of_children\n",
    "        if self.smoker == 0:\n",
    "            patient['smoker'] = 'No'\n",
    "        else:\n",
    "            patient['smoker'] = 'Yes'\n",
    "        patient['Insurance Cost'] = self.estimated_insurance_cost()\n",
    "        return patient\n",
    "        "
   ]
  },
  {
   "cell_type": "markdown",
   "id": "8b4f039e-2374-4fc6-a466-0a51410f1be3",
   "metadata": {},
   "source": [
    "### Testing the Class ###\n",
    "with fictional data"
   ]
  },
  {
   "cell_type": "code",
   "execution_count": 25,
   "id": "f541e1c4-dad2-474d-9dc0-6edc1663fbe0",
   "metadata": {},
   "outputs": [
    {
     "data": {
      "text/plain": [
       "({'name': 'Bill Smith',\n",
       "  'age': 26,\n",
       "  'sex': 'Male',\n",
       "  'bmi': 24.9,\n",
       "  'Children': 2,\n",
       "  'smoker': 'Yes',\n",
       "  'Insurance Cost': 28063.0},\n",
       " {'name': 'Julie Smith',\n",
       "  'age': 25,\n",
       "  'sex': 'Female',\n",
       "  'bmi': 23.5,\n",
       "  'Children': 2,\n",
       "  'smoker': 'No',\n",
       "  'Insurance Cost': 3167.0})"
      ]
     },
     "execution_count": 25,
     "metadata": {},
     "output_type": "execute_result"
    }
   ],
   "source": [
    "julie = Patient('Julie Smith', 25, 1, 23.5, 2, 0)\n",
    "bill = Patient('Bill Smith', 26, 0, 24.9, 2, 1)\n",
    "bill.patient_profile(), julie.patient_profile()"
   ]
  },
  {
   "cell_type": "code",
   "execution_count": 27,
   "id": "bc6ae2f1-0ed8-4830-b07e-f3868af04215",
   "metadata": {},
   "outputs": [
    {
     "name": "stdout",
     "output_type": "stream",
     "text": [
      "Julie Smith has 3 children.\n",
      "Bill Smith has 3 children.\n",
      "Julie Smith has a bmi of 24\n",
      "Bill Smith has a bmi of 22\n",
      "Bill Smith does not smoke.\n"
     ]
    }
   ],
   "source": [
    "julie.update_age(26)\n",
    "bill.update_age(27)\n",
    "julie.update_num_children(3)\n",
    "bill.update_num_children(3)\n",
    "julie.update_bmi(24)\n",
    "bill.update_bmi(22)\n",
    "bill.update_smoker(0)"
   ]
  },
  {
   "cell_type": "code",
   "execution_count": 28,
   "id": "55b197c0-8d3f-48d2-9038-407ec2ec95be",
   "metadata": {},
   "outputs": [
    {
     "data": {
      "text/plain": [
       "({'name': 'Julie Smith',\n",
       "  'age': 26,\n",
       "  'sex': 'Female',\n",
       "  'bmi': 24,\n",
       "  'Children': 3,\n",
       "  'smoker': 'No',\n",
       "  'Insurance Cost': 4027},\n",
       " {'name': 'Bill Smith',\n",
       "  'age': 27,\n",
       "  'sex': 'Male',\n",
       "  'bmi': 22,\n",
       "  'Children': 3,\n",
       "  'smoker': 'No',\n",
       "  'Insurance Cost': 3665})"
      ]
     },
     "execution_count": 28,
     "metadata": {},
     "output_type": "execute_result"
    }
   ],
   "source": [
    "julie.patient_profile(), bill.patient_profile()"
   ]
  }
 ],
 "metadata": {
  "kernelspec": {
   "display_name": "Python 3 (ipykernel)",
   "language": "python",
   "name": "python3"
  },
  "language_info": {
   "codemirror_mode": {
    "name": "ipython",
    "version": 3
   },
   "file_extension": ".py",
   "mimetype": "text/x-python",
   "name": "python",
   "nbconvert_exporter": "python",
   "pygments_lexer": "ipython3",
   "version": "3.11.4"
  }
 },
 "nbformat": 4,
 "nbformat_minor": 5
}
